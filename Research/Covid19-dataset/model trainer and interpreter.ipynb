{
 "cells": [
  {
   "cell_type": "code",
   "execution_count": 31,
   "metadata": {},
   "outputs": [
    {
     "name": "stdout",
     "output_type": "stream",
     "text": [
      "2.3.0\n"
     ]
    }
   ],
   "source": [
    "import os\n",
    "import zipfile\n",
    "import random\n",
    "import shutil\n",
    "import tensorflow as tf\n",
    "from tensorflow.keras.optimizers import RMSprop\n",
    "from tensorflow.keras.preprocessing.image import ImageDataGenerator\n",
    "from shutil import copyfile\n",
    "from os import getcwd\n",
    "import keras\n",
    "print(tf.version.VERSION)\n",
    "physical_devices = tf.config.experimental.list_physical_devices('GPU')\n",
    "if len(physical_devices) > 0:\n",
    "    tf.config.experimental.set_memory_growth(physical_devices[0], True)"
   ]
  },
  {
   "cell_type": "code",
   "execution_count": null,
   "metadata": {},
   "outputs": [],
   "source": [
    "\"\"\"def split_data(SOURCE, TRAINING, TESTING, SPLIT_SIZE):\n",
    "# YOUR CODE STARTS HERE\n",
    "    files = []\n",
    "    for filename in os.listdir(SOURCE):\n",
    "            file = SOURCE + filename\n",
    "            if os.path.getsize(file) > 0:\n",
    "                files.append(filename)\n",
    "            else:\n",
    "                print(filename + \" is zero length, so ignoring.\")\n",
    "\n",
    "    training_length = int(len(files) * SPLIT_SIZE)\n",
    "    testing_length = int(len(files) - training_length)\n",
    "    shuffled_set = random.sample(files, len(files))\n",
    "    training_set = shuffled_set[0:training_length]\n",
    "    testing_set = shuffled_set[-testing_length:]\n",
    "\n",
    "    for filename in training_set:\n",
    "        this_file = SOURCE + filename\n",
    "        destination = TRAINING + filename\n",
    "        copyfile(this_file, destination)\n",
    "\n",
    "    for filename in testing_set:\n",
    "        this_file = SOURCE + filename\n",
    "        destination = TESTING + filename\n",
    "        copyfile(this_file, destination)\n",
    "# YOUR CODE ENDS HERE\n",
    "\n",
    "\n",
    "COVID_SOURCE_DIR = \"D:/project/autocar/Self-driving-car-master/images2/a/\"\n",
    "TRAINING_COVID_DIR = \"D:/project/autocar/Self-driving-car-master/images2/train/a/\"\n",
    "TESTING_COVID_DIR = \"D:/project/autocar/Self-driving-car-master/images2/test/a/\"\n",
    "NORMAL_SOURCE_DIR =\"D:/project/autocar/Self-driving-car-master/images2/d/\"\n",
    "TRAINING_NORMAL_DIR = \"D:/project/autocar/Self-driving-car-master/images2/train/d/\"\n",
    "TESTING_NORMAL_DIR = \"D:/project/autocar/Self-driving-car-master/images2/test/d/\"\n",
    "PNEUMONIA_SOURCE_DIR =\"D:/project/autocar/Self-driving-car-master/images2/w/\"\n",
    "TRAINING_PNEUMONIA_DIR = \"D:/project/autocar/Self-driving-car-master/images2/train/w/\"\n",
    "TESTING_PNEUMONIA_DIR = \"D:/project/autocar/Self-driving-car-master/images2/test/w/\"\n",
    "\n",
    "split_size = .9\n",
    "split_data(COVID_SOURCE_DIR, TRAINING_COVID_DIR, TESTING_COVID_DIR, split_size)\n",
    "split_data(NORMAL_SOURCE_DIR, TRAINING_NORMAL_DIR, TESTING_NORMAL_DIR, split_size)\n",
    "split_data(PNEUMONIA_SOURCE_DIR, TRAINING_PNEUMONIA_DIR, TESTING_PNEUMONIA_DIR, split_size)\n",
    "\n",
    "\"\"\""
   ]
  },
  {
   "cell_type": "code",
   "execution_count": 59,
   "metadata": {},
   "outputs": [
    {
     "name": "stdout",
     "output_type": "stream",
     "text": [
      "Found 251 images belonging to 3 classes.\n",
      "Found 66 images belonging to 3 classes.\n"
     ]
    }
   ],
   "source": [
    "\n",
    "TRAINING_DIR =\"D:/PROJECTS/Research/Covid19-dataset/train/\"\n",
    "train_datagen = ImageDataGenerator(rescale=1.0/255#,rotation_range=40,\n",
    "                                ,width_shift_range=0.2,\n",
    "                                 height_shift_range=0.2,\n",
    "                                  shear_range=0.2,\n",
    "                                 zoom_range=0.2,\n",
    "                                #  horizontal_flip=True,\n",
    "                                  fill_mode='nearest'\n",
    "                                  )\n",
    "train_generator = train_datagen.flow_from_directory(TRAINING_DIR,\n",
    "                                                    batch_size=32,\n",
    "                                                    class_mode='categorical',\n",
    "                                                    target_size=(320, 320))\n",
    "\n",
    "VALIDATION_DIR = \"D:/PROJECTS/Research/Covid19-dataset/test/\"\n",
    "validation_datagen = ImageDataGenerator(rescale=1.0/255.)\n",
    "validation_generator = validation_datagen.flow_from_directory(VALIDATION_DIR,\n",
    "                                                              batch_size=32,\n",
    "                                                              class_mode='categorical',\n",
    "                                                              target_size=(320, 320))"
   ]
  },
  {
   "cell_type": "code",
   "execution_count": 60,
   "metadata": {},
   "outputs": [
    {
     "name": "stdout",
     "output_type": "stream",
     "text": [
      "Model: \"sequential_5\"\n",
      "_________________________________________________________________\n",
      "Layer (type)                 Output Shape              Param #   \n",
      "=================================================================\n",
      "conv2d_25 (Conv2D)           (None, 318, 318, 16)      448       \n",
      "_________________________________________________________________\n",
      "max_pooling2d_25 (MaxPooling (None, 159, 159, 16)      0         \n",
      "_________________________________________________________________\n",
      "conv2d_26 (Conv2D)           (None, 157, 157, 32)      4640      \n",
      "_________________________________________________________________\n",
      "max_pooling2d_26 (MaxPooling (None, 78, 78, 32)        0         \n",
      "_________________________________________________________________\n",
      "conv2d_27 (Conv2D)           (None, 76, 76, 64)        18496     \n",
      "_________________________________________________________________\n",
      "max_pooling2d_27 (MaxPooling (None, 38, 38, 64)        0         \n",
      "_________________________________________________________________\n",
      "conv2d_28 (Conv2D)           (None, 36, 36, 128)       73856     \n",
      "_________________________________________________________________\n",
      "max_pooling2d_28 (MaxPooling (None, 18, 18, 128)       0         \n",
      "_________________________________________________________________\n",
      "conv2d_29 (Conv2D)           (None, 16, 16, 256)       295168    \n",
      "_________________________________________________________________\n",
      "max_pooling2d_29 (MaxPooling (None, 8, 8, 256)         0         \n",
      "_________________________________________________________________\n",
      "flatten_5 (Flatten)          (None, 16384)             0         \n",
      "_________________________________________________________________\n",
      "dense_10 (Dense)             (None, 512)               8389120   \n",
      "_________________________________________________________________\n",
      "dense_11 (Dense)             (None, 3)                 1539      \n",
      "=================================================================\n",
      "Total params: 8,783,267\n",
      "Trainable params: 8,783,267\n",
      "Non-trainable params: 0\n",
      "_________________________________________________________________\n"
     ]
    }
   ],
   "source": [
    "\n",
    "\n",
    "\n",
    "\n",
    "\n",
    "\n",
    "model = tf.keras.models.Sequential([\n",
    "    tf.keras.layers.Conv2D(16, (3, 3), activation='relu', input_shape=(320, 320, 3)),\n",
    "    tf.keras.layers.MaxPooling2D(2, 2),\n",
    "    tf.keras.layers.Conv2D(32, (3, 3), activation='relu'),\n",
    "    tf.keras.layers.MaxPooling2D(2, 2),\n",
    "    tf.keras.layers.Conv2D(64, (3, 3), activation='relu'),\n",
    "    tf.keras.layers.MaxPooling2D(2, 2),\n",
    "    \n",
    "    \n",
    "    tf.keras.layers.Conv2D(128, (3, 3), activation='relu'),\n",
    "    tf.keras.layers.MaxPooling2D(2, 2),\n",
    "    \n",
    "    tf.keras.layers.Conv2D(256, (3, 3), activation='relu'),\n",
    "    tf.keras.layers.MaxPooling2D(2, 2),\n",
    "    tf.keras.layers.Flatten(),\n",
    "    tf.keras.layers.Dense(512, activation='relu'),\n",
    "    tf.keras.layers.Dense(3, activation='softmax')\n",
    "\n",
    "])\n",
    "\n",
    "model.compile(optimizer=RMSprop(lr=0.0005), loss='categorical_crossentropy', metrics=['acc'])\n",
    "model.summary()"
   ]
  },
  {
   "cell_type": "code",
   "execution_count": 61,
   "metadata": {
    "scrolled": false
   },
   "outputs": [
    {
     "name": "stdout",
     "output_type": "stream",
     "text": [
      "Epoch 1/200\n",
      "8/8 - 17s - loss: 1.1169 - acc: 0.4024 - val_loss: 1.0102 - val_acc: 0.4848\n",
      "Epoch 2/200\n",
      "8/8 - 15s - loss: 1.2787 - acc: 0.5618 - val_loss: 0.8011 - val_acc: 0.7727\n",
      "Epoch 3/200\n",
      "8/8 - 16s - loss: 0.7276 - acc: 0.7012 - val_loss: 0.5637 - val_acc: 0.8030\n",
      "Epoch 4/200\n",
      "8/8 - 17s - loss: 0.7977 - acc: 0.6494 - val_loss: 0.5321 - val_acc: 0.8485\n",
      "Epoch 5/200\n",
      "8/8 - 16s - loss: 0.5640 - acc: 0.7490 - val_loss: 0.5111 - val_acc: 0.8333\n",
      "Epoch 6/200\n",
      "8/8 - 16s - loss: 0.7870 - acc: 0.6653 - val_loss: 0.6247 - val_acc: 0.7121\n",
      "Epoch 7/200\n",
      "8/8 - 16s - loss: 0.5537 - acc: 0.7809 - val_loss: 2.2765 - val_acc: 0.4848\n",
      "Epoch 8/200\n",
      "8/8 - 17s - loss: 0.8526 - acc: 0.7171 - val_loss: 0.5900 - val_acc: 0.6970\n",
      "Epoch 9/200\n",
      "8/8 - 19s - loss: 0.5390 - acc: 0.7570 - val_loss: 0.6719 - val_acc: 0.6515\n",
      "Epoch 10/200\n",
      "8/8 - 17s - loss: 0.4323 - acc: 0.8406 - val_loss: 0.4044 - val_acc: 0.8788\n",
      "Epoch 11/200\n",
      "8/8 - 16s - loss: 0.5588 - acc: 0.7570 - val_loss: 0.4881 - val_acc: 0.8030\n",
      "Epoch 12/200\n",
      "8/8 - 17s - loss: 0.3984 - acc: 0.8685 - val_loss: 0.5042 - val_acc: 0.7273\n",
      "Epoch 13/200\n",
      "8/8 - 18s - loss: 0.5499 - acc: 0.7888 - val_loss: 0.5984 - val_acc: 0.6818\n",
      "Epoch 14/200\n",
      "8/8 - 17s - loss: 0.4102 - acc: 0.8526 - val_loss: 0.4321 - val_acc: 0.7424\n",
      "Epoch 15/200\n",
      "8/8 - 16s - loss: 0.4496 - acc: 0.8247 - val_loss: 0.3995 - val_acc: 0.8030\n",
      "Epoch 16/200\n",
      "8/8 - 19s - loss: 0.4447 - acc: 0.8207 - val_loss: 0.6422 - val_acc: 0.6818\n",
      "Epoch 17/200\n",
      "8/8 - 16s - loss: 0.4693 - acc: 0.8008 - val_loss: 0.4478 - val_acc: 0.8485\n",
      "Epoch 18/200\n",
      "8/8 - 16s - loss: 0.3624 - acc: 0.8645 - val_loss: 0.9977 - val_acc: 0.5152\n",
      "Epoch 19/200\n",
      "8/8 - 16s - loss: 0.4407 - acc: 0.8566 - val_loss: 0.4188 - val_acc: 0.7576\n",
      "Epoch 20/200\n",
      "8/8 - 17s - loss: 0.3552 - acc: 0.8606 - val_loss: 0.9440 - val_acc: 0.5758\n",
      "Epoch 21/200\n",
      "8/8 - 16s - loss: 0.4160 - acc: 0.8167 - val_loss: 0.3298 - val_acc: 0.8788\n",
      "Epoch 22/200\n",
      "8/8 - 18s - loss: 0.3443 - acc: 0.8566 - val_loss: 0.4433 - val_acc: 0.7727\n",
      "Epoch 23/200\n",
      "8/8 - 17s - loss: 0.4231 - acc: 0.8367 - val_loss: 0.4453 - val_acc: 0.7879\n",
      "Epoch 24/200\n",
      "8/8 - 16s - loss: 0.3071 - acc: 0.8566 - val_loss: 0.4086 - val_acc: 0.8485\n",
      "Epoch 25/200\n",
      "8/8 - 16s - loss: 0.4073 - acc: 0.8566 - val_loss: 0.6090 - val_acc: 0.7576\n",
      "Epoch 26/200\n",
      "8/8 - 16s - loss: 0.3511 - acc: 0.8446 - val_loss: 0.3991 - val_acc: 0.7576\n",
      "Epoch 27/200\n",
      "8/8 - 16s - loss: 0.2474 - acc: 0.9044 - val_loss: 0.3634 - val_acc: 0.7879\n",
      "Epoch 28/200\n",
      "8/8 - 19s - loss: 0.3541 - acc: 0.8645 - val_loss: 0.7614 - val_acc: 0.7273\n",
      "Epoch 29/200\n",
      "8/8 - 17s - loss: 0.4008 - acc: 0.8566 - val_loss: 0.3065 - val_acc: 0.8788\n",
      "Epoch 30/200\n",
      "8/8 - 16s - loss: 0.2830 - acc: 0.8924 - val_loss: 0.4831 - val_acc: 0.7727\n",
      "Epoch 31/200\n",
      "8/8 - 16s - loss: 0.3028 - acc: 0.8805 - val_loss: 0.6036 - val_acc: 0.7879\n",
      "Epoch 32/200\n",
      "8/8 - 16s - loss: 0.2433 - acc: 0.8924 - val_loss: 0.4414 - val_acc: 0.7879\n",
      "Epoch 33/200\n",
      "8/8 - 16s - loss: 0.2626 - acc: 0.9004 - val_loss: 0.6637 - val_acc: 0.6667\n",
      "Epoch 34/200\n",
      "8/8 - 16s - loss: 0.2602 - acc: 0.8845 - val_loss: 0.2789 - val_acc: 0.8636\n",
      "Epoch 35/200\n",
      "8/8 - 16s - loss: 0.2083 - acc: 0.9323 - val_loss: 0.4832 - val_acc: 0.7727\n",
      "Epoch 36/200\n",
      "8/8 - 17s - loss: 0.2086 - acc: 0.9363 - val_loss: 0.4507 - val_acc: 0.7121\n",
      "Epoch 37/200\n",
      "8/8 - 18s - loss: 0.1740 - acc: 0.9402 - val_loss: 0.8541 - val_acc: 0.6364\n",
      "Epoch 38/200\n",
      "8/8 - 17s - loss: 0.2635 - acc: 0.9004 - val_loss: 0.3675 - val_acc: 0.8485\n",
      "Epoch 39/200\n",
      "8/8 - 16s - loss: 0.2015 - acc: 0.9044 - val_loss: 0.2422 - val_acc: 0.8788\n",
      "Epoch 40/200\n",
      "8/8 - 16s - loss: 0.1556 - acc: 0.9402 - val_loss: 0.5040 - val_acc: 0.7727\n",
      "Epoch 41/200\n",
      "8/8 - 16s - loss: 0.3862 - acc: 0.8765 - val_loss: 0.3737 - val_acc: 0.8030\n",
      "Epoch 42/200\n",
      "8/8 - 16s - loss: 0.1682 - acc: 0.9442 - val_loss: 0.5272 - val_acc: 0.7576\n",
      "Epoch 43/200\n",
      "8/8 - 16s - loss: 0.1970 - acc: 0.9163 - val_loss: 0.2781 - val_acc: 0.8636\n",
      "Epoch 44/200\n",
      "8/8 - 16s - loss: 0.1436 - acc: 0.9442 - val_loss: 0.2520 - val_acc: 0.8485\n",
      "Epoch 45/200\n",
      "8/8 - 16s - loss: 0.1784 - acc: 0.9363 - val_loss: 0.3228 - val_acc: 0.8333\n",
      "Epoch 46/200\n",
      "8/8 - 16s - loss: 0.1752 - acc: 0.9363 - val_loss: 0.4292 - val_acc: 0.7576\n",
      "Epoch 47/200\n",
      "8/8 - 16s - loss: 0.1634 - acc: 0.9402 - val_loss: 0.2367 - val_acc: 0.9091\n",
      "Epoch 48/200\n",
      "8/8 - 18s - loss: 0.1979 - acc: 0.9243 - val_loss: 0.5316 - val_acc: 0.7424\n",
      "Epoch 49/200\n",
      "8/8 - 16s - loss: 0.1339 - acc: 0.9482 - val_loss: 0.2400 - val_acc: 0.8636\n",
      "Epoch 50/200\n",
      "8/8 - 16s - loss: 0.1766 - acc: 0.9402 - val_loss: 0.3485 - val_acc: 0.8485\n",
      "Epoch 51/200\n",
      "8/8 - 16s - loss: 0.1111 - acc: 0.9761 - val_loss: 0.2644 - val_acc: 0.8788\n",
      "Epoch 52/200\n",
      "8/8 - 16s - loss: 0.2363 - acc: 0.9243 - val_loss: 0.4735 - val_acc: 0.8030\n",
      "Epoch 53/200\n",
      "8/8 - 16s - loss: 0.1424 - acc: 0.9363 - val_loss: 0.4732 - val_acc: 0.8182\n",
      "Epoch 54/200\n",
      "8/8 - 17s - loss: 0.1875 - acc: 0.9243 - val_loss: 0.5232 - val_acc: 0.7879\n",
      "Epoch 55/200\n",
      "8/8 - 16s - loss: 0.1937 - acc: 0.9283 - val_loss: 0.3400 - val_acc: 0.8485\n",
      "Epoch 56/200\n",
      "8/8 - 16s - loss: 0.1544 - acc: 0.9402 - val_loss: 0.2843 - val_acc: 0.8788\n",
      "Epoch 57/200\n",
      "8/8 - 16s - loss: 0.1045 - acc: 0.9761 - val_loss: 0.3645 - val_acc: 0.8788\n",
      "Epoch 58/200\n",
      "8/8 - 16s - loss: 0.1549 - acc: 0.9482 - val_loss: 0.6314 - val_acc: 0.8182\n",
      "Epoch 59/200\n",
      "8/8 - 16s - loss: 0.1900 - acc: 0.9482 - val_loss: 0.2857 - val_acc: 0.8636\n",
      "Epoch 60/200\n",
      "8/8 - 16s - loss: 0.1507 - acc: 0.9482 - val_loss: 0.2109 - val_acc: 0.8939\n",
      "Epoch 61/200\n",
      "8/8 - 17s - loss: 0.1460 - acc: 0.9482 - val_loss: 0.3003 - val_acc: 0.8636\n",
      "Epoch 62/200\n",
      "8/8 - 16s - loss: 0.1270 - acc: 0.9602 - val_loss: 0.2462 - val_acc: 0.8939\n",
      "Epoch 63/200\n",
      "8/8 - 16s - loss: 0.3539 - acc: 0.8725 - val_loss: 0.2253 - val_acc: 0.8788\n",
      "Epoch 64/200\n",
      "8/8 - 16s - loss: 0.1386 - acc: 0.9522 - val_loss: 0.3121 - val_acc: 0.8636\n",
      "Epoch 65/200\n",
      "8/8 - 16s - loss: 0.1173 - acc: 0.9602 - val_loss: 0.6155 - val_acc: 0.8030\n",
      "Epoch 66/200\n",
      "8/8 - 16s - loss: 0.0889 - acc: 0.9761 - val_loss: 0.2466 - val_acc: 0.9091\n",
      "Epoch 67/200\n",
      "8/8 - 16s - loss: 0.1207 - acc: 0.9562 - val_loss: 0.1893 - val_acc: 0.9091\n",
      "Epoch 68/200\n",
      "8/8 - 16s - loss: 0.0788 - acc: 0.9761 - val_loss: 0.8924 - val_acc: 0.8030\n",
      "Epoch 69/200\n",
      "8/8 - 16s - loss: 0.1393 - acc: 0.9482 - val_loss: 0.3479 - val_acc: 0.8939\n",
      "Epoch 70/200\n",
      "8/8 - 16s - loss: 0.1821 - acc: 0.9323 - val_loss: 0.7193 - val_acc: 0.8333\n",
      "Epoch 71/200\n",
      "8/8 - 16s - loss: 0.1094 - acc: 0.9761 - val_loss: 0.6913 - val_acc: 0.7727\n",
      "Epoch 72/200\n",
      "8/8 - 16s - loss: 0.1341 - acc: 0.9522 - val_loss: 0.2290 - val_acc: 0.8939\n",
      "Epoch 73/200\n",
      "8/8 - 16s - loss: 0.1312 - acc: 0.9363 - val_loss: 0.2155 - val_acc: 0.9242\n",
      "Epoch 74/200\n",
      "8/8 - 17s - loss: 0.0814 - acc: 0.9681 - val_loss: 0.4492 - val_acc: 0.8030\n",
      "Epoch 75/200\n",
      "8/8 - 16s - loss: 0.0624 - acc: 0.9801 - val_loss: 0.2831 - val_acc: 0.8788\n",
      "Epoch 76/200\n",
      "8/8 - 16s - loss: 0.3104 - acc: 0.9203 - val_loss: 0.4578 - val_acc: 0.8485\n",
      "Epoch 77/200\n",
      "8/8 - 16s - loss: 0.1417 - acc: 0.9562 - val_loss: 0.2397 - val_acc: 0.8636\n",
      "Epoch 78/200\n",
      "8/8 - 16s - loss: 0.0963 - acc: 0.9641 - val_loss: 0.3009 - val_acc: 0.8333\n",
      "Epoch 79/200\n",
      "8/8 - 17s - loss: 0.1059 - acc: 0.9681 - val_loss: 0.2900 - val_acc: 0.8788\n",
      "Epoch 80/200\n",
      "8/8 - 16s - loss: 0.0598 - acc: 0.9641 - val_loss: 0.1750 - val_acc: 0.9091\n",
      "Epoch 81/200\n",
      "8/8 - 17s - loss: 0.1469 - acc: 0.9482 - val_loss: 0.6414 - val_acc: 0.8636\n",
      "Epoch 82/200\n",
      "8/8 - 16s - loss: 0.1367 - acc: 0.9602 - val_loss: 0.3421 - val_acc: 0.8636\n",
      "Epoch 83/200\n",
      "8/8 - 17s - loss: 0.1605 - acc: 0.9482 - val_loss: 0.2930 - val_acc: 0.8939\n",
      "Epoch 84/200\n",
      "8/8 - 16s - loss: 0.1203 - acc: 0.9522 - val_loss: 0.5622 - val_acc: 0.8636\n",
      "Epoch 85/200\n",
      "8/8 - 16s - loss: 0.1011 - acc: 0.9681 - val_loss: 0.7698 - val_acc: 0.8182\n",
      "Epoch 86/200\n",
      "8/8 - 16s - loss: 0.0821 - acc: 0.9641 - val_loss: 0.2752 - val_acc: 0.8939\n",
      "Epoch 87/200\n",
      "8/8 - 16s - loss: 0.0822 - acc: 0.9641 - val_loss: 0.3037 - val_acc: 0.8636\n",
      "Epoch 88/200\n",
      "8/8 - 17s - loss: 0.0990 - acc: 0.9641 - val_loss: 0.2460 - val_acc: 0.9091\n",
      "Epoch 89/200\n",
      "8/8 - 17s - loss: 0.0877 - acc: 0.9721 - val_loss: 1.3437 - val_acc: 0.6667\n",
      "Epoch 90/200\n",
      "8/8 - 16s - loss: 0.1469 - acc: 0.9402 - val_loss: 0.2082 - val_acc: 0.9242\n",
      "Epoch 91/200\n",
      "8/8 - 17s - loss: 0.0620 - acc: 0.9841 - val_loss: 0.3269 - val_acc: 0.8788\n",
      "Epoch 92/200\n",
      "8/8 - 16s - loss: 0.0703 - acc: 0.9681 - val_loss: 0.4142 - val_acc: 0.8788\n",
      "Epoch 93/200\n",
      "8/8 - 17s - loss: 0.0767 - acc: 0.9721 - val_loss: 0.2874 - val_acc: 0.9091\n"
     ]
    },
    {
     "name": "stdout",
     "output_type": "stream",
     "text": [
      "Epoch 94/200\n",
      "8/8 - 16s - loss: 0.1362 - acc: 0.9562 - val_loss: 0.4305 - val_acc: 0.8333\n",
      "Epoch 95/200\n",
      "8/8 - 17s - loss: 0.0475 - acc: 0.9841 - val_loss: 0.5108 - val_acc: 0.8485\n",
      "Epoch 96/200\n",
      "8/8 - 17s - loss: 0.1945 - acc: 0.9442 - val_loss: 0.2498 - val_acc: 0.8939\n",
      "Epoch 97/200\n",
      "8/8 - 17s - loss: 0.0781 - acc: 0.9681 - val_loss: 0.2701 - val_acc: 0.9242\n",
      "Epoch 98/200\n",
      "8/8 - 16s - loss: 0.0432 - acc: 0.9880 - val_loss: 0.4249 - val_acc: 0.8939\n",
      "Epoch 99/200\n",
      "8/8 - 17s - loss: 0.0874 - acc: 0.9681 - val_loss: 0.3243 - val_acc: 0.8636\n",
      "Epoch 100/200\n",
      "8/8 - 17s - loss: 0.0679 - acc: 0.9801 - val_loss: 0.1706 - val_acc: 0.9091\n",
      "Epoch 101/200\n",
      "8/8 - 17s - loss: 0.0649 - acc: 0.9761 - val_loss: 0.3992 - val_acc: 0.8939\n",
      "Epoch 102/200\n",
      "8/8 - 17s - loss: 0.1564 - acc: 0.9482 - val_loss: 0.2005 - val_acc: 0.9091\n",
      "Epoch 103/200\n",
      "8/8 - 17s - loss: 0.0458 - acc: 0.9841 - val_loss: 1.2035 - val_acc: 0.8182\n",
      "Epoch 104/200\n",
      "8/8 - 17s - loss: 0.1119 - acc: 0.9721 - val_loss: 0.5445 - val_acc: 0.8636\n",
      "Epoch 105/200\n",
      "8/8 - 16s - loss: 0.0714 - acc: 0.9801 - val_loss: 0.6690 - val_acc: 0.8636\n",
      "Epoch 106/200\n",
      "8/8 - 17s - loss: 0.1246 - acc: 0.9442 - val_loss: 0.2673 - val_acc: 0.9394\n",
      "Epoch 107/200\n",
      "8/8 - 16s - loss: 0.0668 - acc: 0.9761 - val_loss: 0.6449 - val_acc: 0.8788\n",
      "Epoch 108/200\n",
      "8/8 - 17s - loss: 0.0338 - acc: 0.9880 - val_loss: 0.3392 - val_acc: 0.9242\n",
      "Epoch 109/200\n",
      "\n",
      " Reached 95% accuracy so cancelling training!\n",
      "8/8 - 17s - loss: 0.0525 - acc: 0.9801 - val_loss: 0.1767 - val_acc: 0.9545\n"
     ]
    }
   ],
   "source": [
    "class myCallback(tf.keras.callbacks.Callback):\n",
    "        def on_epoch_end(self,epoch,logs={}):\n",
    "            if(logs.get('val_acc') > 0.95):\n",
    "                print(\"\\n Reached 95% accuracy so cancelling training!\")\n",
    "                self.model.stop_training=True\n",
    "callbacks=myCallback()\n",
    "history = model.fit_generator(train_generator,\n",
    "                              epochs=200,\n",
    "                              verbose=2,\n",
    "                              validation_data=validation_generator,callbacks=[callbacks])"
   ]
  },
  {
   "cell_type": "code",
   "execution_count": 62,
   "metadata": {},
   "outputs": [
    {
     "data": {
      "image/png": "[encoded data removed]",
      "text/plain": [
       "<Figure size 432x288 with 1 Axes>"
      ]
     },
     "metadata": {
      "needs_background": "light"
     },
     "output_type": "display_data"
    },
    {
     "data": {
      "image/png": "[encoded data removed]",
      "text/plain": [
       "<Figure size 432x288 with 1 Axes>"
      ]
     },
     "metadata": {
      "needs_background": "light"
     },
     "output_type": "display_data"
    }
   ],
   "source": [
    "%matplotlib inline\n",
    "import matplotlib.pyplot as plt\n",
    "acc = history.history['acc']\n",
    "val_acc = history.history['val_acc']\n",
    "loss = history.history['loss']\n",
    "val_loss = history.history['val_loss']\n",
    "\n",
    "epochs = range(len(acc))\n",
    "\n",
    "plt.plot(epochs, acc, 'r', label='Training accuracy')\n",
    "plt.plot(epochs, val_acc, 'b', label='Validation accuracy')\n",
    "plt.title('Training and validation accuracy')\n",
    "plt.legend()\n",
    "plt.figure()\n",
    "\n",
    "plt.plot(epochs, loss, 'r', label='Training Loss')\n",
    "plt.plot(epochs, val_loss, 'b', label='Validation Loss')\n",
    "plt.title('Training and validdation loss')\n",
    "plt.legend()\n",
    "\n",
    "plt.show()"
   ]
  },
  {
   "cell_type": "code",
   "execution_count": 69,
   "metadata": {},
   "outputs": [],
   "source": [
    "model.save('mymodelcovid.h5',overwrite=True)"
   ]
  },
  {
   "cell_type": "code",
   "execution_count": null,
   "metadata": {},
   "outputs": [],
   "source": []
  },
  {
   "cell_type": "code",
   "execution_count": 64,
   "metadata": {},
   "outputs": [],
   "source": [
    "import cv2\n",
    "import numpy as np\n",
    "from keras.preprocessing import image"
   ]
  },
  {
   "cell_type": "code",
   "execution_count": 68,
   "metadata": {},
   "outputs": [
    {
     "name": "stderr",
     "output_type": "stream",
     "text": [
      "W0906 13:01:35.793656 47200 def_function.py:120] 11 out of the last 11 calls to <function Model.make_predict_function.<locals>.predict_function at 0x0000016BBAD4BC80> triggered tf.function retracing. Tracing is expensive and the excessive number of tracings could be due to (1) creating @tf.function repeatedly in a loop, (2) passing tensors with different shapes, (3) passing Python objects instead of tensors. For (1), please define your @tf.function outside of the loop. For (2), @tf.function has experimental_relax_shapes=True option that relaxes argument shapes that can avoid unnecessary retracing. For (3), please refer to https://www.tensorflow.org/tutorials/customization/performance#python_or_tensor_args and https://www.tensorflow.org/api_docs/python/tf/function for  more details.\n"
     ]
    }
   ],
   "source": [
    "#@tf.function\n",
    "model=tf.keras.models.load_model(r'mymodelcovid.h5')\n",
    "img = cv2.imread(r\"example/3.jpg\")    \n",
    "img = cv2.resize(img,(320,320)) \n",
    "x = image.img_to_array(img)\n",
    "x = np.expand_dims(img, axis=0)\n",
    "\n",
    "images = np.vstack([x])\n",
    "classes = model.predict(x, batch_size=4)\n",
    "classes = np.argmax(classes, axis = 1)\n",
    "classes = classes[0]\n",
    "if classes == 1:\n",
    "    print(\"normal\")\n",
    "elif classes == 2:\n",
    "    print(\"covid positive\")\n",
    "elif classes == 3:\n",
    "    print(\"pneumoniatic symptoms\")\n",
    "\n",
    "  # Break the loop\n"
   ]
  },
  {
   "cell_type": "code",
   "execution_count": null,
   "metadata": {},
   "outputs": [],
   "source": []
  },
  {
   "cell_type": "code",
   "execution_count": null,
   "metadata": {},
   "outputs": [],
   "source": []
  },
  {
   "cell_type": "code",
   "execution_count": null,
   "metadata": {},
   "outputs": [],
   "source": []
  },
  {
   "cell_type": "code",
   "execution_count": null,
   "metadata": {},
   "outputs": [],
   "source": []
  },
  {
   "cell_type": "code",
   "execution_count": null,
   "metadata": {},
   "outputs": [],
   "source": [
    "tf.keras.applications.VGG16(\n",
    "    include_top=True, weights='imagenet', input_tensor=None, input_shape=(320,320,3),\n",
    "    pooling=max, classes=3, classifier_activation='softmax'\n",
    ")"
   ]
  },
  {
   "cell_type": "code",
   "execution_count": null,
   "metadata": {},
   "outputs": [],
   "source": []
  },
  {
   "cell_type": "code",
   "execution_count": null,
   "metadata": {},
   "outputs": [],
   "source": []
  },
  {
   "cell_type": "code",
   "execution_count": null,
   "metadata": {},
   "outputs": [],
   "source": []
  },
  {
   "cell_type": "code",
   "execution_count": null,
   "metadata": {},
   "outputs": [],
   "source": []
  },
  {
   "cell_type": "code",
   "execution_count": null,
   "metadata": {},
   "outputs": [],
   "source": []
  },
  {
   "cell_type": "code",
   "execution_count": null,
   "metadata": {},
   "outputs": [],
   "source": []
  },
  {
   "cell_type": "code",
   "execution_count": null,
   "metadata": {},
   "outputs": [],
   "source": []
  },
  {
   "cell_type": "code",
   "execution_count": null,
   "metadata": {},
   "outputs": [],
   "source": []
  },
  {
   "cell_type": "code",
   "execution_count": null,
   "metadata": {},
   "outputs": [],
   "source": []
  },
  {
   "cell_type": "code",
   "execution_count": null,
   "metadata": {},
   "outputs": [],
   "source": []
  },
  {
   "cell_type": "code",
   "execution_count": null,
   "metadata": {},
   "outputs": [],
   "source": []
  },
  {
   "cell_type": "code",
   "execution_count": null,
   "metadata": {},
   "outputs": [],
   "source": []
  },
  {
   "cell_type": "code",
   "execution_count": null,
   "metadata": {},
   "outputs": [],
   "source": []
  },
  {
   "cell_type": "code",
   "execution_count": null,
   "metadata": {},
   "outputs": [],
   "source": []
  },
  {
   "cell_type": "code",
   "execution_count": null,
   "metadata": {},
   "outputs": [],
   "source": []
  }
 ],
 "metadata": {
  "kernelspec": {
   "display_name": "Python 3",
   "language": "python",
   "name": "python3"
  },
  "language_info": {
   "codemirror_mode": {
    "name": "ipython",
    "version": 3
   },
   "file_extension": ".py",
   "mimetype": "text/x-python",
   "name": "python",
   "nbconvert_exporter": "python",
   "pygments_lexer": "ipython3",
   "version": "3.7.0"
  }
 },
 "nbformat": 4,
 "nbformat_minor": 2
}
